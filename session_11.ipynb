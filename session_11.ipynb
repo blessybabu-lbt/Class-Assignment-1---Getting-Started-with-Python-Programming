{
  "nbformat": 4,
  "nbformat_minor": 0,
  "metadata": {
    "colab": {
      "name": "session 11.ipynb",
      "provenance": [],
      "collapsed_sections": [],
      "authorship_tag": "ABX9TyNJyrIz9A99owmko5dkeW+2",
      "include_colab_link": true
    },
    "kernelspec": {
      "name": "python3",
      "display_name": "Python 3"
    }
  },
  "cells": [
    {
      "cell_type": "markdown",
      "metadata": {
        "id": "view-in-github",
        "colab_type": "text"
      },
      "source": [
        "<a href=\"https://colab.research.google.com/github/blessybabu-lbt/Class-Assignment-1---Getting-Started-with-Python-Programming/blob/master/session_11.ipynb\" target=\"_parent\"><img src=\"https://colab.research.google.com/assets/colab-badge.svg\" alt=\"Open In Colab\"/></a>"
      ]
    },
    {
      "cell_type": "code",
      "metadata": {
        "colab": {
          "base_uri": "https://localhost:8080/"
        },
        "id": "u7i39_cfcoka",
        "outputId": "ce94bd2e-0cda-492a-f5af-d876d187b242"
      },
      "source": [
        "# 1. Check whether the number is Leap year or not.\r\n",
        "\r\n",
        "year = int(input(\"Enter a year: \"))  \r\n",
        "if (year % 4) == 0:  \r\n",
        "   if (year % 100) == 0:  \r\n",
        "       if (year % 400) == 0:  \r\n",
        "           print(\"{0} is a leap year\".format(year))  \r\n",
        "       else:  \r\n",
        "           print(\"{0} is not a leap year\".format(year))  \r\n",
        "   else:  \r\n",
        "       print(\"{0} is a leap year\".format(year))  \r\n",
        "else:  \r\n",
        "   print(\"{0} is not a leap year\".format(year))  "
      ],
      "execution_count": 2,
      "outputs": [
        {
          "output_type": "stream",
          "text": [
            "Enter a year: 2021\n",
            "2021 is not a leap year\n"
          ],
          "name": "stdout"
        }
      ]
    },
    {
      "cell_type": "code",
      "metadata": {
        "colab": {
          "base_uri": "https://localhost:8080/"
        },
        "id": "imgPZdAbc3tC",
        "outputId": "7b1fb08b-6c7c-46dd-cabb-b87959940583"
      },
      "source": [
        "# 2. Write a python program to add two matrices using list\r\n",
        "\r\n",
        "X =   [[10,7,29], \r\n",
        "       [8,41,5], \r\n",
        "       [6,3,11]] \r\n",
        "  \r\n",
        "Y =   [[33,64,6], \r\n",
        "       [2,14,83], \r\n",
        "       [11,66,3]] \r\n",
        "\r\n",
        "result = [[0,0,0], \r\n",
        "          [0,0,0], \r\n",
        "          [0,0,0]] \r\n",
        "for i in range(len(X)):    \r\n",
        "    for j in range(len(X[0])): \r\n",
        "        result[i][j] = X[i][j] + Y[i][j] \r\n",
        "for r in result: \r\n",
        "    print(r) "
      ],
      "execution_count": 4,
      "outputs": [
        {
          "output_type": "stream",
          "text": [
            "[43, 71, 35]\n",
            "[10, 55, 88]\n",
            "[17, 69, 14]\n"
          ],
          "name": "stdout"
        }
      ]
    },
    {
      "cell_type": "code",
      "metadata": {
        "colab": {
          "base_uri": "https://localhost:8080/"
        },
        "id": "6c3lLUYvdiBk",
        "outputId": "6a75723f-a475-4f72-9006-9c7643346f97"
      },
      "source": [
        "# 3. Write a program to reverse a string and print whether is palindrome or not.\r\n",
        "\r\n",
        "def isPalindrome(s):\r\n",
        "    return s == s[::-1]\r\n",
        "\r\n",
        "s = \"noon\"\r\n",
        "ans = isPalindrome(s)\r\n",
        " \r\n",
        "if ans:\r\n",
        "    print(\"Yes\")\r\n",
        "else:\r\n",
        "    print(\"No\")"
      ],
      "execution_count": 7,
      "outputs": [
        {
          "output_type": "stream",
          "text": [
            "Yes\n"
          ],
          "name": "stdout"
        }
      ]
    },
    {
      "cell_type": "code",
      "metadata": {
        "colab": {
          "base_uri": "https://localhost:8080/"
        },
        "id": "L4rdlqmle3QA",
        "outputId": "b49e4460-3cb4-486a-d5e6-f4d430354ca9"
      },
      "source": [
        "# 4. Write a Python program to get the largest number from a list\r\n",
        "\r\n",
        "list1 = [] \r\n",
        "num = int(input(\"Enter number of elements in list: \")) \r\n",
        "for i in range(1, num + 1): \r\n",
        "    ele = int(input(\"Enter elements: \")) \r\n",
        "    list1.append(ele) \r\n",
        "print(\"Largest element is:\", max(list1)) "
      ],
      "execution_count": 9,
      "outputs": [
        {
          "output_type": "stream",
          "text": [
            "Enter number of elements in list: 3\n",
            "Enter elements: 5\n",
            "Enter elements: 10\n",
            "Enter elements: 8\n",
            "Largest element is: 10\n"
          ],
          "name": "stdout"
        }
      ]
    },
    {
      "cell_type": "code",
      "metadata": {
        "colab": {
          "base_uri": "https://localhost:8080/"
        },
        "id": "h6NdnjEhfQH6",
        "outputId": "4535c63d-f26d-44fd-ba60-d6237adff3f8"
      },
      "source": [
        "# 5. Write a python program to  find common items from two list.\r\n",
        "\r\n",
        "def common_member(a, b): \r\n",
        "    a_set = set(a) \r\n",
        "    b_set = set(b) \r\n",
        "  \r\n",
        "    if (a_set & b_set): \r\n",
        "        print(a_set & b_set) \r\n",
        "    else: \r\n",
        "        print(\"No common elements\")  \r\n",
        "\r\n",
        "a = [1, 2, 3, 4, 5] \r\n",
        "b = [4,5, 6, 7, 8, 9] \r\n",
        "common_member(a, b) \r\n",
        "   \r\n",
        "a = [1, 2, 3, 4, 5] \r\n",
        "b = [6, 7, 8, 9, 10] \r\n",
        "common_member(a, b) "
      ],
      "execution_count": 11,
      "outputs": [
        {
          "output_type": "stream",
          "text": [
            "{4, 5}\n",
            "No common elements\n"
          ],
          "name": "stdout"
        }
      ]
    },
    {
      "cell_type": "code",
      "metadata": {
        "colab": {
          "base_uri": "https://localhost:8080/"
        },
        "id": "MClItc4xfmwA",
        "outputId": "a0fad4d5-285e-44bd-88a3-efec258525a5"
      },
      "source": [
        "# 6. Write a python program to generate all permutations of a list in python.\r\n",
        "from itertools import permutations\r\n",
        "perm = permutations([1, 2, 3])  \r\n",
        "for i in list(perm):  \r\n",
        "    print (i)"
      ],
      "execution_count": 19,
      "outputs": [
        {
          "output_type": "stream",
          "text": [
            "(1, 2, 3)\n",
            "(1, 3, 2)\n",
            "(2, 1, 3)\n",
            "(2, 3, 1)\n",
            "(3, 1, 2)\n",
            "(3, 2, 1)\n"
          ],
          "name": "stdout"
        }
      ]
    }
  ]
}