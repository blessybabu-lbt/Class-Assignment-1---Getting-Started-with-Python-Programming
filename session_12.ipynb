{
  "nbformat": 4,
  "nbformat_minor": 0,
  "metadata": {
    "colab": {
      "name": "session 12.ipynb",
      "provenance": [],
      "collapsed_sections": [],
      "authorship_tag": "ABX9TyPyMUKtJma5G/25cxqzN5so",
      "include_colab_link": true
    },
    "kernelspec": {
      "name": "python3",
      "display_name": "Python 3"
    }
  },
  "cells": [
    {
      "cell_type": "markdown",
      "metadata": {
        "id": "view-in-github",
        "colab_type": "text"
      },
      "source": [
        "<a href=\"https://colab.research.google.com/github/blessybabu-lbt/Class-Assignment-1---Getting-Started-with-Python-Programming/blob/master/session_12.ipynb\" target=\"_parent\"><img src=\"https://colab.research.google.com/assets/colab-badge.svg\" alt=\"Open In Colab\"/></a>"
      ]
    },
    {
      "cell_type": "code",
      "metadata": {
        "colab": {
          "base_uri": "https://localhost:8080/"
        },
        "id": "12GMAHmN1LON",
        "outputId": "10f0a292-4f8e-4cd2-9b16-fd7efba8c48f"
      },
      "source": [
        "# 1. Input 4 integers (+ve and −ve). Write a Python code to find the sum of negative numbers, \r\n",
        "#    positive numbers, and print them. Also, find the averages of these two groups of numbers and print.\r\n",
        "\r\n",
        "nums = [2, -4, 6, -8, 10, -12, 14, -16]\r\n",
        "print(\"Original list:\",nums)\r\n",
        "total_negative_nums = list(filter(lambda nums:nums<0,nums))\r\n",
        "total_positive_nums = list(filter(lambda nums:nums>0,nums))\r\n",
        "print(\"Sum of the positive numbers:\",sum(total_negative_nums))\r\n",
        "print(\"Sum of the negative numbers:\",sum(total_positive_nums))"
      ],
      "execution_count": 3,
      "outputs": [
        {
          "output_type": "stream",
          "text": [
            "Original list: [2, -4, 6, -8, 10, -12, 14, -16]\n",
            "Sum of the positive numbers: -40\n",
            "Sum of the negative numbers: 32\n"
          ],
          "name": "stdout"
        }
      ]
    },
    {
      "cell_type": "code",
      "metadata": {
        "colab": {
          "base_uri": "https://localhost:8080/"
        },
        "id": "xzG6bPYZ3qr2",
        "outputId": "6f757b1c-caae-4c65-d320-ccf873886b27"
      },
      "source": [
        "# 2. Write a Python code to create a function called list_of_frequency that takes a string and \r\n",
        "#    prints the letters in non-increasing order of the frequency of their occurrences. Use dictionaries.\r\n",
        "\r\n",
        "def list_of_frequency(str1):\r\n",
        "  dict = {}\r\n",
        "  for n in str1:\r\n",
        "    keys = dict.keys()\r\n",
        "    if n in keys:\r\n",
        "      dict[n] += 1\r\n",
        "    else:\r\n",
        "      dict[n] = 1\r\n",
        "  return dict\r\n",
        "print(list_of_frequency('frequency'))"
      ],
      "execution_count": 8,
      "outputs": [
        {
          "output_type": "stream",
          "text": [
            "{'f': 1, 'r': 1, 'e': 2, 'q': 1, 'u': 1, 'n': 1, 'c': 1, 'y': 1}\n"
          ],
          "name": "stdout"
        }
      ]
    },
    {
      "cell_type": "code",
      "metadata": {
        "colab": {
          "base_uri": "https://localhost:8080/"
        },
        "id": "aK80Vrls48Gn",
        "outputId": "a67c170c-7d6b-4aaf-adf0-1393203dcda1"
      },
      "source": [
        "# 3. Write a Python program to read a list of numbers and sort the list in a nondecreasing order without using any built in functions.\r\n",
        "#    Separate function should be written to sort the list wherein the name of the list is passed as the parameter\r\n",
        "\r\n",
        "NumList = []\r\n",
        "Number = int(input(\"Please enter the Total Number of List Elements: \"))\r\n",
        "for i in range(1, Number + 1):\r\n",
        "  value = int(input(\"Please enter the Value of %d Element : \" %i))\r\n",
        "  NumList.append(value)\r\n",
        "for i in range (Number):\r\n",
        "  for j in range(i + 1, Number):\r\n",
        "    if(NumList[i] > NumList[j]):\r\n",
        "      temp = NumList[i]\r\n",
        "      NumList[i] = NumList[j]\r\n",
        "      NumList[j] = temp\r\n",
        "print(\"Element After Sorting List in ascending Order is : \", NumList)"
      ],
      "execution_count": 9,
      "outputs": [
        {
          "output_type": "stream",
          "text": [
            "Please enter the Total Number of List Elements: 4\n",
            "Please enter the Value of 1 Element : 3\n",
            "Please enter the Value of 2 Element : 5\n",
            "Please enter the Value of 3 Element : 1\n",
            "Please enter the Value of 4 Element : 7\n",
            "Element After Sorting List in ascending Order is :  [1, 3, 5, 7]\n"
          ],
          "name": "stdout"
        }
      ]
    },
    {
      "cell_type": "code",
      "metadata": {
        "colab": {
          "base_uri": "https://localhost:8080/"
        },
        "id": "hY2IbTFN58z2",
        "outputId": "721b2c0a-bd52-4746-aa99-44c653f5acf4"
      },
      "source": [
        "# 4. Write a Python code to determine whether the given string is a Palindrome or not using slicing. \r\n",
        "#    Do not use any string function\r\n",
        "\r\n",
        "def isPalindrome(s):\r\n",
        "  return s == s[::-1]\r\n",
        "s =\"noon\"\r\n",
        "ans = isPalindrome(s)\r\n",
        "if ans:\r\n",
        "  print(\"Yes\")\r\n",
        "else:\r\n",
        "  print(\"No\")"
      ],
      "execution_count": 11,
      "outputs": [
        {
          "output_type": "stream",
          "text": [
            "Yes\n"
          ],
          "name": "stdout"
        }
      ]
    },
    {
      "cell_type": "code",
      "metadata": {
        "colab": {
          "base_uri": "https://localhost:8080/"
        },
        "id": "T4G-2mbN7CUk",
        "outputId": "b9d6d27f-c74d-473c-a393-832dc39861f2"
      },
      "source": [
        "# 5. Write a Python program to find the value for sin(x) up to n terms where x is in degrees.\r\n",
        "\r\n",
        "import math\r\n",
        "def cal_sin(n):\r\n",
        "  accuracy = 0.0001;\r\n",
        "  n = n * (3.142 / 180.0);\r\n",
        "  x1 = n;\r\n",
        "  sinx = n;\r\n",
        "  sinval = math.sin(n);\r\n",
        "  i = 1;\r\n",
        "  while(True):\r\n",
        "    denominator = 2 * i * (2 * i + 1);\r\n",
        "    x1 = -x1 * n * n / denominator;\r\n",
        "    sinx = sinx + x1;\r\n",
        "    i = i + 1;\r\n",
        "    if(accuracy <= abs(sinval - sinx)):\r\n",
        "      break;\r\n",
        "  print(round(sinx));\r\n",
        "n = 90;\r\n",
        "cal_sin(n);"
      ],
      "execution_count": 17,
      "outputs": [
        {
          "output_type": "stream",
          "text": [
            "1\n"
          ],
          "name": "stdout"
        }
      ]
    },
    {
      "cell_type": "code",
      "metadata": {
        "colab": {
          "base_uri": "https://localhost:8080/"
        },
        "id": "XBnvCF5e8LGw",
        "outputId": "88455bc4-38a1-4cb1-9930-1e7e9a1c2fd0"
      },
      "source": [
        "# 6. Write a Python program to check the validity of a password given by the user.The Password should satisfy the following criteria:\r\n",
        "#    1. Contains at least one letter between a and z\r\n",
        "#    2. Contains at least one number between 0 and 9\r\n",
        "#    3. Contains at least one letter between A and Z\r\n",
        "#    4. Contains at least one special character from $, #, @\r\n",
        "#    5. Minimum length of password: 6\r\n",
        "\r\n",
        "import re\r\n",
        "p= input(\"Input your password : \")\r\n",
        "x = True\r\n",
        "while x:\r\n",
        "  if (len(p)<6 or len(p)>12):\r\n",
        "    break\r\n",
        "  elif not re.search(\"[a-z]\",p):\r\n",
        "    break\r\n",
        "  elif not re.search(\"[0-9]\",p):\r\n",
        "    break\r\n",
        "  elif not re.search(\"[A-Z]\",p):\r\n",
        "    break\r\n",
        "  elif not re.search(\"[$#@]\",p):\r\n",
        "    break\r\n",
        "  elif re.search(\"\\s\",p):\r\n",
        "    break\r\n",
        "  else:\r\n",
        "    print(\"Valid Password\")\r\n",
        "    x=False\r\n",
        "    break\r\n",
        "if x:\r\n",
        "  print(\"Not a Valid Password\")"
      ],
      "execution_count": 19,
      "outputs": [
        {
          "output_type": "stream",
          "text": [
            "Input your password : a4F#8di\n",
            "Valid Password\n"
          ],
          "name": "stdout"
        }
      ]
    }
  ]
}