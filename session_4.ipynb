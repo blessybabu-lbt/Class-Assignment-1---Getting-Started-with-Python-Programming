{
  "nbformat": 4,
  "nbformat_minor": 0,
  "metadata": {
    "colab": {
      "name": "session 4.ipynb",
      "provenance": [],
      "collapsed_sections": [],
      "authorship_tag": "ABX9TyO91xyQi8RQa33PvAYQa2qq",
      "include_colab_link": true
    },
    "kernelspec": {
      "name": "python3",
      "display_name": "Python 3"
    }
  },
  "cells": [
    {
      "cell_type": "markdown",
      "metadata": {
        "id": "view-in-github",
        "colab_type": "text"
      },
      "source": [
        "<a href=\"https://colab.research.google.com/github/blessybabu-lbt/Class-Assignment-1---Getting-Started-with-Python-Programming/blob/master/session_4.ipynb\" target=\"_parent\"><img src=\"https://colab.research.google.com/assets/colab-badge.svg\" alt=\"Open In Colab\"/></a>"
      ]
    },
    {
      "cell_type": "code",
      "metadata": {
        "id": "z2my7aOcH2Wz",
        "colab": {
          "base_uri": "https://localhost:8080/"
        },
        "outputId": "13782bbd-69f4-4110-a120-4e70e59e24a4"
      },
      "source": [
        "#Blessy babu\n",
        "\n",
        "from math import pi\n",
        "class circle:\n",
        "  def __init__(self):\n",
        "    self.rad = 0\n",
        "\n",
        "  def input_rad(self):\n",
        "    self.rad = int(input(\"Enter the radius of circle:\"))\n",
        "  \n",
        "  def area(self):\n",
        "    area= pi*self.rad**2\n",
        "    print(\"\\nArea is:\",area)\n",
        "  \n",
        "  def peri(self):\n",
        "    peri= 2*pi*self.rad\n",
        "    print(\"\\nPerimetr is:\",peri)\n",
        "\n",
        "c1 = circle()\n",
        "c1.input_rad()\n",
        "c1.area()\n",
        "c1.peri()"
      ],
      "execution_count": 1,
      "outputs": [
        {
          "output_type": "stream",
          "text": [
            "Enter the radius of circle:10\n",
            "\n",
            "Area is: 314.1592653589793\n",
            "\n",
            "Perimetr is: 62.83185307179586\n"
          ],
          "name": "stdout"
        }
      ]
    },
    {
      "cell_type": "code",
      "metadata": {
        "colab": {
          "base_uri": "https://localhost:8080/"
        },
        "id": "cMGKxxyIJa4b",
        "outputId": "120c3c50-aa00-442e-cad4-98dae4493fb0"
      },
      "source": [
        "#Blessy babu\n",
        "class RECTANGLE:\n",
        "  def __init__(self):\n",
        "    self.height=0\n",
        "    self.width=0\n",
        "    self.corner_x=0\n",
        "    self.corner_y=0\n",
        "  \n",
        "  def input(self):\n",
        "    self.height = int(input(\"Enter the height:\"))\n",
        "    self.width = int(input(\"Enter the width:\"))\n",
        "    self.corner_x = int(input(\"Enter the corner x :\"))\n",
        "    self.corner_y = int(input(\"Enter the corner Y :\"))\n",
        "  \n",
        "  def center(self):\n",
        "    x = (self.width/2) + self.corner_x\n",
        "    y = (self.height/2) + self.corner_y\n",
        "    print(\"The center of rectangle is:(%s,%s)\" %(x,y))\n",
        "\n",
        "  \n",
        "  def area(self):\n",
        "    print(\"Area is:\",self.height*self.width)\n",
        "\n",
        "  def peri(self):\n",
        "    p= 2*(self.height+self.width)\n",
        "    print(\"Perimeter is:\",p)\n",
        "\n",
        "r1 = RECTANGLE()\n",
        "r1.input()\n",
        "r1.center()\n",
        "r1.area()\n",
        "r1.peri()"
      ],
      "execution_count": 2,
      "outputs": [
        {
          "output_type": "stream",
          "text": [
            "Enter the height:10\n",
            "Enter the width:6\n",
            "Enter the corner x :2\n",
            "Enter the corner Y :4\n",
            "The center of rectangle is:(5.0,9.0)\n",
            "Area is: 60\n",
            "Perimeter is: 32\n"
          ],
          "name": "stdout"
        }
      ]
    }
  ]
}