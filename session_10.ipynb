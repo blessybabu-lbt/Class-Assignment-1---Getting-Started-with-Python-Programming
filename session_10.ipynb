{
  "nbformat": 4,
  "nbformat_minor": 0,
  "metadata": {
    "colab": {
      "name": "session 10.ipynb",
      "provenance": [],
      "collapsed_sections": [],
      "authorship_tag": "ABX9TyPN07VQN053FwaSELjV8B8J",
      "include_colab_link": true
    },
    "kernelspec": {
      "name": "python3",
      "display_name": "Python 3"
    }
  },
  "cells": [
    {
      "cell_type": "markdown",
      "metadata": {
        "id": "view-in-github",
        "colab_type": "text"
      },
      "source": [
        "<a href=\"https://colab.research.google.com/github/blessybabu-lbt/Class-Assignment-1---Getting-Started-with-Python-Programming/blob/master/session_10.ipynb\" target=\"_parent\"><img src=\"https://colab.research.google.com/assets/colab-badge.svg\" alt=\"Open In Colab\"/></a>"
      ]
    },
    {
      "cell_type": "code",
      "metadata": {
        "colab": {
          "base_uri": "https://localhost:8080/"
        },
        "id": "KW8fzyUbz5_v",
        "outputId": "b7125ecc-39c2-47ff-c343-6a3df9753e5a"
      },
      "source": [
        "# 1. Write a python program to check if a number is armstrong or not.\r\n",
        "\r\n",
        "num = int(input(\"Enter a number: \"))\r\n",
        "sum = 0\r\n",
        "temp = num\r\n",
        "\r\n",
        "while temp > 0:\r\n",
        "   digit = temp % 10\r\n",
        "   sum += digit ** 3\r\n",
        "   temp //= 10\r\n",
        "\r\n",
        "if num == sum:\r\n",
        "   print(num,\"is an Armstrong number\")\r\n",
        "else:\r\n",
        "   print(num,\"is not an Armstrong number\")"
      ],
      "execution_count": 2,
      "outputs": [
        {
          "output_type": "stream",
          "text": [
            "Enter a number: 153\n",
            "153 is an Armstrong number\n"
          ],
          "name": "stdout"
        }
      ]
    },
    {
      "cell_type": "code",
      "metadata": {
        "colab": {
          "base_uri": "https://localhost:8080/"
        },
        "id": "l_uWLRV20V8q",
        "outputId": "f7257c4f-4f6a-4422-80d8-c67f863e1e3e"
      },
      "source": [
        "# 2. Write a Python program to check whether three given lengths (integers) of three sides form a right triangle. \r\n",
        "#    Print \"Yes\" if the given sides form a right triangle otherwise print \"No\".\r\n",
        "\r\n",
        "def righttri(a,b,c):\r\n",
        "  sum=a**2+b**2\r\n",
        "  if sum==c**2:\r\n",
        "    return \"Yes\"\r\n",
        "  else:\r\n",
        "    return \"No\"\r\n",
        "\r\n",
        "print(righttri(3,4,5))"
      ],
      "execution_count": 4,
      "outputs": [
        {
          "output_type": "stream",
          "text": [
            "Yes\n"
          ],
          "name": "stdout"
        }
      ]
    },
    {
      "cell_type": "code",
      "metadata": {
        "colab": {
          "base_uri": "https://localhost:8080/"
        },
        "id": "gxE50fKb1WfP",
        "outputId": "031da755-2066-4bae-ecad-ca6f96b7663b"
      },
      "source": [
        "# 3. Write a Python program to print the number of prime numbers which are less than or equal to a given integer.\r\n",
        "\r\n",
        "def prime(limit):\r\n",
        "  for num in range(2, limit + 1):\r\n",
        "            for i in range(2, num):\r\n",
        "                 if (num % i) == 0:\r\n",
        "                     break\r\n",
        "            else:print(num)\r\n",
        "\r\n",
        "limit=int(input(\"Enter limit :\"))\r\n",
        "prime(limit)"
      ],
      "execution_count": 5,
      "outputs": [
        {
          "output_type": "stream",
          "text": [
            "Enter limit :10\n",
            "2\n",
            "3\n",
            "5\n",
            "7\n"
          ],
          "name": "stdout"
        }
      ]
    },
    {
      "cell_type": "code",
      "metadata": {
        "colab": {
          "base_uri": "https://localhost:8080/"
        },
        "id": "aDI4MCum13LU",
        "outputId": "03410706-2c89-4923-a26f-1222efd8ab94"
      },
      "source": [
        "# 4. Write a python program to  convert Celsius  into  Fahrenheit.\r\n",
        "\r\n",
        "cel=float(input(\"Enter the value in Celcius : \"))\r\n",
        "fahren = (cel*(9/5)+32)\r\n",
        "\r\n",
        "print(\"The value in fahrenheit is : \",fahren)"
      ],
      "execution_count": 7,
      "outputs": [
        {
          "output_type": "stream",
          "text": [
            "Enter the value in Celcius : 0\n",
            "The value in fahrenheit is :  32.0\n"
          ],
          "name": "stdout"
        }
      ]
    },
    {
      "cell_type": "code",
      "metadata": {
        "colab": {
          "base_uri": "https://localhost:8080/"
        },
        "id": "7QuZH7o017e3",
        "outputId": "fad59ac9-44cc-42db-c552-be33bcdf6500"
      },
      "source": [
        "# 5. Write a Python program that will accept the base and height of a triangle and compute the area. \r\n",
        "\r\n",
        "b = int(input(\"Enter the base : \"))\r\n",
        "h = int(input(\"Enter the height : \"))\r\n",
        "\r\n",
        "area = (1/2)*b*h\r\n",
        "\r\n",
        "print(\"Area of triangle = \", area)"
      ],
      "execution_count": 6,
      "outputs": [
        {
          "output_type": "stream",
          "text": [
            "Enter the base : 3\n",
            "Enter the height : 4\n",
            "Area of triangle =  6.0\n"
          ],
          "name": "stdout"
        }
      ]
    }
  ]
}