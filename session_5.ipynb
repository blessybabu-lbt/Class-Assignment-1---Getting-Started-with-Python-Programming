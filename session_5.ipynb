{
  "nbformat": 4,
  "nbformat_minor": 0,
  "metadata": {
    "colab": {
      "name": "session 5.ipynb",
      "provenance": [],
      "collapsed_sections": [],
      "authorship_tag": "ABX9TyMs0zkrYfiQdkNF2t6VustT",
      "include_colab_link": true
    },
    "kernelspec": {
      "name": "python3",
      "display_name": "Python 3"
    }
  },
  "cells": [
    {
      "cell_type": "markdown",
      "metadata": {
        "id": "view-in-github",
        "colab_type": "text"
      },
      "source": [
        "<a href=\"https://colab.research.google.com/github/blessybabu-lbt/Class-Assignment-1---Getting-Started-with-Python-Programming/blob/master/session_5.ipynb\" target=\"_parent\"><img src=\"https://colab.research.google.com/assets/colab-badge.svg\" alt=\"Open In Colab\"/></a>"
      ]
    },
    {
      "cell_type": "code",
      "metadata": {
        "id": "z2my7aOcH2Wz",
        "colab": {
          "base_uri": "https://localhost:8080/"
        },
        "outputId": "fe8018fe-e14c-4630-a32a-2a156bcce664"
      },
      "source": [
        "#Blessy babu\n",
        "\n",
        "class Cat:\n",
        "    def __init__(self, name, age):\n",
        "        self.name = name\n",
        "        self.age = age\n",
        "\n",
        "    def info(self):\n",
        "        print(\"I am a cat. My name is %s. I am %s years old.\" %(self.name,self.age))\n",
        "\n",
        "    def make_sound(self):\n",
        "        print(\"I make sound of 'Meow'. \")\n",
        "\n",
        "\n",
        "class Dog:\n",
        "    def __init__(self, name, age):\n",
        "        self.name = name\n",
        "        self.age = age\n",
        "\n",
        "    def info(self):\n",
        "        print(f\"I am a dog. My name is %s. I am %s years old.\" %(self.name,self.age))\n",
        "\n",
        "    def make_sound(self):\n",
        "        print(\"I make sound of 'Bark'.\")\n",
        "\n",
        "\n",
        "cat1 = Cat(\"Leo\", 3)\n",
        "dog1 = Dog(\"Max\", 2)\n",
        "\n",
        "for animal in (cat1, dog1):\n",
        "    animal.info()\n",
        "    animal.make_sound()\n",
        "    "
      ],
      "execution_count": 9,
      "outputs": [
        {
          "output_type": "stream",
          "text": [
            "I am a cat. My name is Leo. I am 3 years old.\n",
            "I make sound of 'Meow'. \n",
            "I am a dog. My name is Max. I am 2 years old.\n",
            "I make sound of 'Bark'.\n"
          ],
          "name": "stdout"
        }
      ]
    },
    {
      "cell_type": "code",
      "metadata": {
        "colab": {
          "base_uri": "https://localhost:8080/"
        },
        "id": "cMGKxxyIJa4b",
        "outputId": "e2e9bb1d-ff3d-4508-fd22-98d7b60fb6c4"
      },
      "source": [
        "#Blessy babu\n",
        "\n",
        "from math import pi\n",
        "\n",
        "\n",
        "class Shape:\n",
        "    def __init__(self, name):\n",
        "        self.name = name\n",
        "\n",
        "    def area(self):\n",
        "        pass\n",
        "\n",
        "    def fact(self):\n",
        "        print(\"Fact : I am a two-dimensional shape.\")\n",
        "\n",
        "    def __str__(self):\n",
        "        return self.name\n",
        "\n",
        "\n",
        "class Square(Shape):\n",
        "    def __init__(self, length):\n",
        "        super().__init__(\"Square\")\n",
        "        self.length = length\n",
        "\n",
        "    def area(self):\n",
        "         a= self.length**2\n",
        "         print(\"Area is :\",a)\n",
        "\n",
        "    def fact(self):\n",
        "        print(\"Fact : Squares have each angle equal to 90 degrees.\")\n",
        "\n",
        "\n",
        "class Circle(Shape):\n",
        "    def __init__(self, radius):\n",
        "        super().__init__(\"Circle\")\n",
        "        self.radius = radius\n",
        "\n",
        "    def area(self):\n",
        "         a= pi*self.radius**2\n",
        "         print(\"Area is :\",a)\n",
        "\n",
        "\n",
        "a = Square(6)\n",
        "b = Circle(10)\n",
        "print(a)\n",
        "print(a.area())\n",
        "print(a.fact())\n",
        "\n",
        "print(b)\n",
        "print(b.area())\n",
        "print(b.fact())"
      ],
      "execution_count": 7,
      "outputs": [
        {
          "output_type": "stream",
          "text": [
            "Square\n",
            "Area is : 36\n",
            "None\n",
            "Fact : Squares have each angle equal to 90 degrees.\n",
            "None\n",
            "Circle\n",
            "Area is : 314.1592653589793\n",
            "None\n",
            "Fact : I am a two-dimensional shape.\n",
            "None\n"
          ],
          "name": "stdout"
        }
      ]
    }
  ]
}