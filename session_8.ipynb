{
  "nbformat": 4,
  "nbformat_minor": 0,
  "metadata": {
    "colab": {
      "name": "session 8.ipynb",
      "provenance": [],
      "collapsed_sections": [],
      "authorship_tag": "ABX9TyOFK1G9jdkcUV+q8d4XVXM0",
      "include_colab_link": true
    },
    "kernelspec": {
      "name": "python3",
      "display_name": "Python 3"
    }
  },
  "cells": [
    {
      "cell_type": "markdown",
      "metadata": {
        "id": "view-in-github",
        "colab_type": "text"
      },
      "source": [
        "<a href=\"https://colab.research.google.com/github/blessybabu-lbt/Class-Assignment-1---Getting-Started-with-Python-Programming/blob/master/session_8.ipynb\" target=\"_parent\"><img src=\"https://colab.research.google.com/assets/colab-badge.svg\" alt=\"Open In Colab\"/></a>"
      ]
    },
    {
      "cell_type": "code",
      "metadata": {
        "colab": {
          "base_uri": "https://localhost:8080/"
        },
        "id": "wA0V0JGYIF1n",
        "outputId": "8bf7007b-d94a-4090-90d1-25dd44a600bf"
      },
      "source": [
        "# 1. Write a Python program to create a lambda function that adds 15 to a given number passed in as an argument, \r\n",
        "# also create a lambda function that multiplies argument x with argument y and print the result\r\n",
        "\r\n",
        "a = lambda x: x+15\r\n",
        "b = lambda x,y: x*y\r\n",
        "print(a(5))\r\n",
        "print(b(2,5))"
      ],
      "execution_count": 4,
      "outputs": [
        {
          "output_type": "stream",
          "text": [
            "20\n",
            "10\n"
          ],
          "name": "stdout"
        }
      ]
    },
    {
      "cell_type": "code",
      "metadata": {
        "colab": {
          "base_uri": "https://localhost:8080/"
        },
        "id": "HhvR92u8LgO-",
        "outputId": "b97eb37e-b8d2-4578-f7fb-ad59f6fae57a"
      },
      "source": [
        "#2. Write a recursive Python function that has a parameter representing a list of integers and returns the maximum stored in the list.\r\n",
        "# Thinking recursively, the maximum is either the first value in the list or the maximum of the rest of the list, whichever is larger. \r\n",
        "# If the list only has 1 integer, then its maximum is this single value, naturally\r\n",
        "\r\n",
        "def Max(list):\r\n",
        "    if len(list) == 1:\r\n",
        "        return list[0]\r\n",
        "    else:\r\n",
        "        m = Max(list[1:])\r\n",
        "        if m > list[0]:\r\n",
        "            return m \r\n",
        "        else:\r\n",
        "            return list[0]\r\n",
        "\r\n",
        "list = [81,57,22,43,11,65]\r\n",
        "print(\"The largest number in the list is : \", Max(list))"
      ],
      "execution_count": 7,
      "outputs": [
        {
          "output_type": "stream",
          "text": [
            "The largest number in the list is :  81\n"
          ],
          "name": "stdout"
        }
      ]
    },
    {
      "cell_type": "code",
      "metadata": {
        "colab": {
          "base_uri": "https://localhost:8080/"
        },
        "id": "hSBrACioQuPI",
        "outputId": "dc8766c0-2db6-43e2-bbcc-5e2a2ea532a6"
      },
      "source": [
        "# 3. Write a python program using list to store and display the average of N Integers accepted from the user\r\n",
        "\r\n",
        "n=int(input(\"Enter the number of elements: \"))\r\n",
        "list=[]\r\n",
        "for i in range(0,n):\r\n",
        "    elem=int(input(\"Enter element to be inserted: \"))\r\n",
        "    list.append(elem)\r\n",
        "avg=sum(list)/n\r\n",
        "print(\"Average of elements in the list\",round(avg,2))"
      ],
      "execution_count": 11,
      "outputs": [
        {
          "output_type": "stream",
          "text": [
            "Enter the number of elements: 3\n",
            "Enter element to be inserted: 5\n",
            "Enter element to be inserted: 10\n",
            "Enter element to be inserted: 15\n",
            "Average of elements in the list 10.0\n"
          ],
          "name": "stdout"
        }
      ]
    },
    {
      "cell_type": "code",
      "metadata": {
        "colab": {
          "base_uri": "https://localhost:8080/"
        },
        "id": "X18R1HmQSDmY",
        "outputId": "66f56d64-3513-493c-91ec-6ea141048875"
      },
      "source": [
        "# 4. Write a Python program to create a list by concatenating a given list which range goes from 1 to n. \r\n",
        "\r\n",
        "my_list = ['a', 'b']\r\n",
        "n = 5\r\n",
        "new_list = ['{}{}'.format(x, y) for y in range(1, n+1) for x in my_list]\r\n",
        "print(new_list)"
      ],
      "execution_count": 13,
      "outputs": [
        {
          "output_type": "stream",
          "text": [
            "['a1', 'b1', 'a2', 'b2', 'a3', 'b3', 'a4', 'b4', 'a5', 'b5']\n"
          ],
          "name": "stdout"
        }
      ]
    },
    {
      "cell_type": "code",
      "metadata": {
        "colab": {
          "base_uri": "https://localhost:8080/"
        },
        "id": "w7tud0XgSrHL",
        "outputId": "869d7b58-ad3d-488b-a93f-bd233202d6a2"
      },
      "source": [
        "# 5. Write a Python program to compute the nth Fibonacci number . Use a recursive function for the implementation.\r\n",
        "\r\n",
        "def Fibonacci(n): \r\n",
        "    if n<0: \r\n",
        "        print(\"Incorrect input\") \r\n",
        "    elif n==0: \r\n",
        "        return 0\r\n",
        "    elif n==1: \r\n",
        "        return 1\r\n",
        "    else: \r\n",
        "        return Fibonacci(n-1)+Fibonacci(n-2) \r\n",
        "  \r\n",
        "  \r\n",
        "print(Fibonacci(10))"
      ],
      "execution_count": 17,
      "outputs": [
        {
          "output_type": "stream",
          "text": [
            "55\n"
          ],
          "name": "stdout"
        }
      ]
    },
    {
      "cell_type": "code",
      "metadata": {
        "colab": {
          "base_uri": "https://localhost:8080/"
        },
        "id": "-6LmBMJEVvcT",
        "outputId": "387a769f-53e4-465d-b1d1-f1d61afee149"
      },
      "source": [
        "# 6. Write a recursive function to calculate the sum of numbers from 0 to 10.\r\n",
        "\r\n",
        "def sum(n):\r\n",
        "   if n <= 1:\r\n",
        "       return n\r\n",
        "   else:\r\n",
        "       return n + sum(n-1)\r\n",
        "\r\n",
        "num = 10\r\n",
        "\r\n",
        "if num < 0:\r\n",
        "     print(\"Enter a positive number\")\r\n",
        "else:\r\n",
        "     print(\"The sum is\",sum(num))"
      ],
      "execution_count": 24,
      "outputs": [
        {
          "output_type": "stream",
          "text": [
            "The sum is 55\n"
          ],
          "name": "stdout"
        }
      ]
    },
    {
      "cell_type": "code",
      "metadata": {
        "colab": {
          "base_uri": "https://localhost:8080/"
        },
        "id": "teIQ2z_tYSuw",
        "outputId": "623535d7-0e57-442a-df1b-bd998275c7f0"
      },
      "source": [
        "# 7. Write a recursive function to find the factorial of a number.\r\n",
        "\r\n",
        "def factorial(n):\r\n",
        "   if n == 1:\r\n",
        "       return n\r\n",
        "   else:\r\n",
        "       return n*factorial(n-1)\r\n",
        "\r\n",
        "num = int(input(\"Enter a number:\"))\r\n",
        "\r\n",
        "if num < 0:\r\n",
        "   print(\"factorial does not exist for negative numbers\")\r\n",
        "elif num == 0:\r\n",
        "   print(\"The factorial of 0 is 1\")\r\n",
        "else:\r\n",
        "   print(\"The factorial of\", num, \"is\", factorial(num))"
      ],
      "execution_count": 28,
      "outputs": [
        {
          "output_type": "stream",
          "text": [
            "Enter a number:6\n",
            "The factorial of 6 is 720\n"
          ],
          "name": "stdout"
        }
      ]
    }
  ]
}