{
  "nbformat": 4,
  "nbformat_minor": 0,
  "metadata": {
    "colab": {
      "name": "session 7.ipynb",
      "provenance": [],
      "collapsed_sections": [],
      "authorship_tag": "ABX9TyOAv/bj46TAA2sC3+pxVqU3",
      "include_colab_link": true
    },
    "kernelspec": {
      "name": "python3",
      "display_name": "Python 3"
    }
  },
  "cells": [
    {
      "cell_type": "markdown",
      "metadata": {
        "id": "view-in-github",
        "colab_type": "text"
      },
      "source": [
        "<a href=\"https://colab.research.google.com/github/blessybabu-lbt/Class-Assignment-1---Getting-Started-with-Python-Programming/blob/master/session_7.ipynb\" target=\"_parent\"><img src=\"https://colab.research.google.com/assets/colab-badge.svg\" alt=\"Open In Colab\"/></a>"
      ]
    },
    {
      "cell_type": "code",
      "metadata": {
        "id": "IHWbbn2uAlNh"
      },
      "source": [
        "#3.a.Write a python program to replace a specific line with another text in a file."
      ],
      "execution_count": null,
      "outputs": []
    },
    {
      "cell_type": "code",
      "metadata": {
        "colab": {
          "base_uri": "https://localhost:8080/"
        },
        "id": "oTzzf2snAm7d",
        "outputId": "3ad9e1fd-13c5-4d3b-a808-365d8c4b120a"
      },
      "source": [
        "f = open(\"ab.txt\",\"w\")\r\n",
        "f.write(\"appl is red\")\r\n",
        "f.close()\r\n",
        "f = open(\"ab.txt\",\"r\")\r\n",
        "f1 = open(\"cd.txt\",\"w\")\r\n",
        "for line in f:\r\n",
        "  f1.write(line.replace(\"appl\",\"apple\"))\r\n",
        "f1.close()\r\n",
        "f.close()\r\n",
        "f2 = open(\"ab.txt\",\"r\")\r\n",
        "print(f2.read())\r\n",
        "f3 = open(\"cd.txt\",\"r\")\r\n",
        "print(f3.read())"
      ],
      "execution_count": 1,
      "outputs": [
        {
          "output_type": "stream",
          "text": [
            "appl is red\n",
            "apple is red\n"
          ],
          "name": "stdout"
        }
      ]
    },
    {
      "cell_type": "code",
      "metadata": {
        "id": "gQbL_lMrCtse"
      },
      "source": [
        "# 3.brite a python program to merge two files and write it in a new file."
      ],
      "execution_count": null,
      "outputs": []
    },
    {
      "cell_type": "code",
      "metadata": {
        "colab": {
          "base_uri": "https://localhost:8080/"
        },
        "id": "1L-kYl54C0CE",
        "outputId": "f35bf89c-ab4e-4414-d092-8c5ccd535208"
      },
      "source": [
        "tex = tex1 = \"\"\r\n",
        "f = open(\"file1.txt\",\"w\")\r\n",
        "f.write(\"My name is john.\")\r\n",
        "f.close()\r\n",
        "f1 = open(\"file2.txt\",\"w\")\r\n",
        "f1.write(\"Iam 25 years old.\")\r\n",
        "f1.close()\r\n",
        "\r\n",
        "f = open(\"file1.txt\",\"r\")\r\n",
        "f1 = open(\"file2.txt\",\"r\")\r\n",
        "f2 = open(\"merge.txt\",\"w\")\r\n",
        "\r\n",
        "tex = f.read()\r\n",
        "tex1 = f1.read()\r\n",
        "tex +=\"\"\r\n",
        "tex += tex1\r\n",
        "f2.write(tex)\r\n",
        "f2.close()\r\n",
        "f1.close()\r\n",
        "f.close()\r\n",
        "\r\n",
        "f2 = open(\"merge.txt\",\"r\")\r\n",
        "print(f2.read())"
      ],
      "execution_count": 4,
      "outputs": [
        {
          "output_type": "stream",
          "text": [
            "My name is john.Iam 25 years old.\n"
          ],
          "name": "stdout"
        }
      ]
    },
    {
      "cell_type": "code",
      "metadata": {
        "id": "-xgcisQxE4rX"
      },
      "source": [
        "# 4.a Write a Python program to count the number of lines in a text file."
      ],
      "execution_count": null,
      "outputs": []
    },
    {
      "cell_type": "code",
      "metadata": {
        "colab": {
          "base_uri": "https://localhost:8080/"
        },
        "id": "TgC59E5VFDz8",
        "outputId": "be9fae76-9954-48ac-ec50-f6bb9df241fc"
      },
      "source": [
        "f = open(\"file.txt\", \"w\")\r\n",
        "f.write(\"line no:1.\\n\")\r\n",
        "f.write(\"line no:2.\\n\")\r\n",
        "f.write(\"line no:3.\\n\")\r\n",
        "f.close\r\n",
        "f = open(\"file.txt\", \"r\")\r\n",
        "c = 0\r\n",
        "\r\n",
        "\r\n",
        "Content = f.read()\r\n",
        "CoList = Content.split(\"\\n\")\r\n",
        "\r\n",
        "for i in CoList:\r\n",
        "    if i:\r\n",
        "        c =c+1\r\n",
        "\r\n",
        "print(\"number of lines in the file:\",c)\r\n",
        "\r\n"
      ],
      "execution_count": 7,
      "outputs": [
        {
          "output_type": "stream",
          "text": [
            "number of lines in the file: 3\n"
          ],
          "name": "stdout"
        }
      ]
    },
    {
      "cell_type": "code",
      "metadata": {
        "id": "lDchMLmNG4MR"
      },
      "source": [
        "# 4.b Write a Python program to count the frequency of words in a file. "
      ],
      "execution_count": null,
      "outputs": []
    },
    {
      "cell_type": "code",
      "metadata": {
        "colab": {
          "base_uri": "https://localhost:8080/"
        },
        "id": "c_sPYQ7gHDPo",
        "outputId": "33759b03-e31b-4396-97d8-219e77f121e1"
      },
      "source": [
        "import string\r\n",
        "\r\n",
        "f = open(\"file.txt\", \"w\")\r\n",
        "f.write(\"two is an even number.\\nfive is a odd number\\n\")\r\n",
        "f.close\r\n",
        "\r\n",
        "f = open(\"file.txt\", \"r\")\r\n",
        "\r\n",
        "d = dict()\r\n",
        "\r\n",
        "for line in f:\r\n",
        "    \r\n",
        "    line = line.strip()\r\n",
        "    \r\n",
        "    line = line.lower()\r\n",
        "    \r\n",
        "    line = line.translate(line.maketrans(\"\", \"\", string.punctuation))\r\n",
        "   \r\n",
        "    words = line.split(\" \")\r\n",
        "\r\n",
        "    for word in words:\r\n",
        "        if word in d:\r\n",
        "            d[word] = d[word] + 1\r\n",
        "        else:\r\n",
        "            d[word] = 1\r\n",
        "\r\n",
        "for key in list(d.keys()):\r\n",
        "    print(key, \":\", d[key])\r\n"
      ],
      "execution_count": 10,
      "outputs": [
        {
          "output_type": "stream",
          "text": [
            "two : 1\n",
            "is : 2\n",
            "an : 1\n",
            "even : 1\n",
            "number : 2\n",
            "five : 1\n",
            "a : 1\n",
            "odd : 1\n"
          ],
          "name": "stdout"
        }
      ]
    }
  ]
}