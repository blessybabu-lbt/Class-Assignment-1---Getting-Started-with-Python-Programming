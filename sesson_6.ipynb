{
  "nbformat": 4,
  "nbformat_minor": 0,
  "metadata": {
    "colab": {
      "name": "sesson 6.ipynb",
      "provenance": [],
      "collapsed_sections": [],
      "authorship_tag": "ABX9TyOHNZsTWC4aoqhdDdf9LwSH",
      "include_colab_link": true
    },
    "kernelspec": {
      "name": "python3",
      "display_name": "Python 3"
    }
  },
  "cells": [
    {
      "cell_type": "markdown",
      "metadata": {
        "id": "view-in-github",
        "colab_type": "text"
      },
      "source": [
        "<a href=\"https://colab.research.google.com/github/blessybabu-lbt/Class-Assignment-1---Getting-Started-with-Python-Programming/blob/master/sesson_6.ipynb\" target=\"_parent\"><img src=\"https://colab.research.google.com/assets/colab-badge.svg\" alt=\"Open In Colab\"/></a>"
      ]
    },
    {
      "cell_type": "code",
      "metadata": {
        "colab": {
          "base_uri": "https://localhost:8080/"
        },
        "id": "REk3F0B89E2S",
        "outputId": "745f4c05-d7c2-467e-edc5-ec8c321f1719"
      },
      "source": [
        "#1.a. Write a Python program to read the content of a Python file and display all the lines without comments\r\n",
        "def File(old, new):\r\n",
        "  f1 = open(old, \"r\")\r\n",
        "  f2 = open(new, \"w\")\r\n",
        "  while True:\r\n",
        "    text = f1.readline()\r\n",
        "    if text == \"\":\r\n",
        "      break\r\n",
        "    if text[0] == '#':\r\n",
        "      continue\r\n",
        "    f2.write(text)\r\n",
        "  f1.close()\r\n",
        "  f2.close()\r\n",
        "  return\r\n",
        "f = open(\"mydata.dat\",\"w\")\r\n",
        "f.write(\"First\\n\")\r\n",
        "f.write(\"#Second\\n\")\r\n",
        "f.write(\"#Third\\n\")\r\n",
        "f.write(\"Fourth\\n\")\r\n",
        "f.write(\"Fifth\\n\")\r\n",
        "f.close()\r\n",
        "\r\n",
        "File(\"mydata.dat\",\"newdata.dat\")\r\n",
        "f = open(\"newdata.dat\",\"r\")\r\n",
        "text = f.read()\r\n",
        "print(text)"
      ],
      "execution_count": 12,
      "outputs": [
        {
          "output_type": "stream",
          "text": [
            "First\n",
            "Fourth\n",
            "Fifth\n",
            "\n"
          ],
          "name": "stdout"
        }
      ]
    },
    {
      "cell_type": "code",
      "metadata": {
        "colab": {
          "base_uri": "https://localhost:8080/"
        },
        "id": "Z513V_s4WCtD",
        "outputId": "99b0a769-5faf-4ff0-dd47-dcef05327982"
      },
      "source": [
        "#1. b.Write a Python program to read the contents of a file Grades.txt and \r\n",
        "#calculate the total marks and percentage obtained by a student.\r\n",
        "def totmark_percen(myfile):\r\n",
        "  f1 = open(myfile, \"r\")\r\n",
        "  total_marks=0\r\n",
        "  while True:\r\n",
        "    text = f1.readline() \r\n",
        "    if text == \"\":\r\n",
        "      break\r\n",
        "    marks = text[-3:-1]\r\n",
        "    total_marks+=int(marks)\r\n",
        "    print(marks)\r\n",
        "  print(\"Total Marks:\",total_marks)  \r\n",
        "  print(\"Percentage:\",total_marks/400*100)\r\n",
        "  \r\n",
        "f = open(\"grade.txt\",\"w\")\r\n",
        "f.write(\"Physics : 80\\n\")\r\n",
        "f.write(\"Chemistry : 85\\n\")\r\n",
        "f.write(\"Biology : 90\\n\")\r\n",
        "f.write(\"computer : 88\\n\")\r\n",
        "f.close()\r\n",
        "f = open(\"grade.txt\",\"r\")\r\n",
        "text = f.read()\r\n",
        "print(text)\r\n",
        "totmark_percen('grade.txt')"
      ],
      "execution_count": 28,
      "outputs": [
        {
          "output_type": "stream",
          "text": [
            "Physics : 80\n",
            "Chemistry : 85\n",
            "Biology : 90\n",
            "computer : 88\n",
            "\n",
            "80\n",
            "85\n",
            "90\n",
            "88\n",
            "Total Marks: 343\n",
            "Percentage: 85.75\n"
          ],
          "name": "stdout"
        }
      ]
    },
    {
      "cell_type": "code",
      "metadata": {
        "colab": {
          "base_uri": "https://localhost:8080/"
        },
        "id": "waW4awhw_Qh1",
        "outputId": "5c99d9f1-9df0-4a82-a5f2-b90cb40cd5c6"
      },
      "source": [
        "#2.a.Write a Python program to create a file where all letters of English alphabet\r\n",
        "# are listed by specified number of letters on each line\r\n",
        "import string\r\n",
        "def letters_line(n):\r\n",
        "   with open(\"file.txt\", \"w\") as f:\r\n",
        "       alph = string.ascii_uppercase\r\n",
        "       l = [alph[i:i + n] + \"\\n\" for i in range(0, len(alph), n)]\r\n",
        "       f.writelines(l)\r\n",
        "letters_line(5)\r\n",
        "f = open(\"file.txt\",\"r\")\r\n",
        "text = f.read()\r\n",
        "print(text)"
      ],
      "execution_count": 16,
      "outputs": [
        {
          "output_type": "stream",
          "text": [
            "ABCDE\n",
            "FGHIJ\n",
            "KLMNO\n",
            "PQRST\n",
            "UVWXY\n",
            "Z\n",
            "\n"
          ],
          "name": "stdout"
        }
      ]
    },
    {
      "cell_type": "code",
      "metadata": {
        "colab": {
          "base_uri": "https://localhost:8080/"
        },
        "id": "5CBwLsPQWxNe",
        "outputId": "c70f5c53-1884-4516-97ef-f2ce921fe54b"
      },
      "source": [
        "#2. b.Write a Python program to read a file line by line and store it into a list\r\n",
        "def list(myfile):\r\n",
        "  f1 = open(myfile, \"r\")\r\n",
        "  mylist=[]\r\n",
        "  while True:\r\n",
        "    text = f1.readline() \r\n",
        "    if text == \"\":\r\n",
        "      break\r\n",
        "    text = text[:-1]\r\n",
        "    mylist.append(text)\r\n",
        "  f1.close()\r\n",
        "  return mylist\r\n",
        "f = open(\"file.dat\",\"w\")\r\n",
        "f.write(\"red\\n\")\r\n",
        "f.write(\"orange\\n\")\r\n",
        "f.write(\"yellow\\n\")\r\n",
        "f.write(\"green\\n\")\r\n",
        "f.write(\"violet\\n\")\r\n",
        "f.close()\r\n",
        "f = open(\"file.dat\",\"r\")\r\n",
        "text = f.read()\r\n",
        "print(text)\r\n",
        "list(\"file.dat\")"
      ],
      "execution_count": 36,
      "outputs": [
        {
          "output_type": "stream",
          "text": [
            "red\n",
            "orange\n",
            "yellow\n",
            "green\n",
            "violet\n",
            "\n"
          ],
          "name": "stdout"
        },
        {
          "output_type": "execute_result",
          "data": {
            "text/plain": [
              "['red', 'orange', 'yellow', 'green', 'violet']"
            ]
          },
          "metadata": {
            "tags": []
          },
          "execution_count": 36
        }
      ]
    }
  ]
}