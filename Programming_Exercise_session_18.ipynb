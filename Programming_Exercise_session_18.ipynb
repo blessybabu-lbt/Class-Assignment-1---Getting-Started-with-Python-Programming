{
  "nbformat": 4,
  "nbformat_minor": 0,
  "metadata": {
    "colab": {
      "name": "Programming.Exercise.session-18.ipynb",
      "provenance": [],
      "collapsed_sections": [],
      "authorship_tag": "ABX9TyN/hl0dYqBMmXbcCkTO59ZT",
      "include_colab_link": true
    },
    "kernelspec": {
      "name": "python3",
      "display_name": "Python 3"
    }
  },
  "cells": [
    {
      "cell_type": "markdown",
      "metadata": {
        "id": "view-in-github",
        "colab_type": "text"
      },
      "source": [
        "<a href=\"https://colab.research.google.com/github/blessybabu-lbt/Class-Assignment-1---Getting-Started-with-Python-Programming/blob/master/Programming_Exercise_session_18.ipynb\" target=\"_parent\"><img src=\"https://colab.research.google.com/assets/colab-badge.svg\" alt=\"Open In Colab\"/></a>"
      ]
    },
    {
      "cell_type": "code",
      "metadata": {
        "id": "IIqncJDRKffm"
      },
      "source": [
        "#Write a Python program to get the largest number from a list\n",
        "def max_num_in_list(list):\n",
        "  s_list = sorted(list)\n",
        "  return s_list[len(s_list) -1]"
      ],
      "execution_count": 14,
      "outputs": []
    },
    {
      "cell_type": "code",
      "metadata": {
        "id": "H36vHOyijLd0",
        "outputId": "3d7be770-a689-4648-cc7e-189d663b097f",
        "colab": {
          "base_uri": "https://localhost:8080/",
          "height": 35
        }
      },
      "source": [
        "print(max_num_in_list([51, 33, -18, 10, 3, 83]))"
      ],
      "execution_count": 15,
      "outputs": [
        {
          "output_type": "stream",
          "text": [
            "83\n"
          ],
          "name": "stdout"
        }
      ]
    },
    {
      "cell_type": "code",
      "metadata": {
        "id": "qcYBtssLK86C"
      },
      "source": [
        "#Write a Python code to search an element in a list.\n",
        "def Sequential_Search(dlist,item):\n",
        "  found=0\n",
        "  for i in range(len(dlist)):\n",
        "    if (dlist[i]) == item :\n",
        "      found=1\n",
        "      return (\"element %s is found at position %s in list \" %(item,i+1))\n",
        "      break\n",
        "  if found == 0:\n",
        "    return (\"element %s is not found in list\" %(item))\n"
      ],
      "execution_count": 16,
      "outputs": []
    },
    {
      "cell_type": "code",
      "metadata": {
        "id": "1bsLtcEVitUH",
        "outputId": "03b2e633-b334-4f58-cba2-ed593cbd4d9d",
        "colab": {
          "base_uri": "https://localhost:8080/",
          "height": 35
        }
      },
      "source": [
        "print(Sequential_Search([5,10,15,20,25],10))"
      ],
      "execution_count": 17,
      "outputs": [
        {
          "output_type": "stream",
          "text": [
            "element 10 is found at position 2 in list \n"
          ],
          "name": "stdout"
        }
      ]
    },
    {
      "cell_type": "code",
      "metadata": {
        "id": "Icw3ZxyYIiiQ"
      },
      "source": [
        "#Write a Python program to sum all the items in a list\n",
        "def sum_list(items):\n",
        "    sum = 0\n",
        "    for i in items:\n",
        "        sum += i\n",
        "    return sum"
      ],
      "execution_count": 23,
      "outputs": []
    },
    {
      "cell_type": "code",
      "metadata": {
        "id": "aJTC-rlIjcZ7",
        "outputId": "afda134f-79bf-4ac2-ef1d-22657d41c662",
        "colab": {
          "base_uri": "https://localhost:8080/",
          "height": 35
        }
      },
      "source": [
        "print(sum_list([1,2,3,4,5,6]))"
      ],
      "execution_count": 24,
      "outputs": [
        {
          "output_type": "stream",
          "text": [
            "21\n"
          ],
          "name": "stdout"
        }
      ]
    },
    {
      "cell_type": "code",
      "metadata": {
        "id": "eLzpb0xUNEVM"
      },
      "source": [
        "#Write a Python program to remove duplicates from a list\n",
        "def Remove(duplicate): \n",
        "\tfinal_list = [] \n",
        "\tfor n in duplicate: \n",
        "\t\tif n not in final_list: \n",
        "\t\t\tfinal_list.append(n) \n",
        "\treturn final_list "
      ],
      "execution_count": 25,
      "outputs": []
    },
    {
      "cell_type": "code",
      "metadata": {
        "id": "4A__6pU4j1p7",
        "outputId": "5253ff31-afa1-41be-88e1-706675482d43",
        "colab": {
          "base_uri": "https://localhost:8080/",
          "height": 35
        }
      },
      "source": [
        "print(Remove([11,44,22,88,44,33,22]))"
      ],
      "execution_count": 26,
      "outputs": [
        {
          "output_type": "stream",
          "text": [
            "[11, 44, 22, 88, 33]\n"
          ],
          "name": "stdout"
        }
      ]
    },
    {
      "cell_type": "code",
      "metadata": {
        "id": "ioL_77WuOHid"
      },
      "source": [
        "#Write a Python function that takes two lists and returns True if they have at least one common member\n",
        "def data(list1, list2):\n",
        "     result = False\n",
        "     for x in list1:\n",
        "         for y in list2:\n",
        "             if x == y:\n",
        "                 result = True\n",
        "                 return result\n",
        "     return result"
      ],
      "execution_count": 28,
      "outputs": []
    },
    {
      "cell_type": "code",
      "metadata": {
        "id": "jDKBoqC_kFnI",
        "outputId": "bcfc39ca-43a8-40cf-d244-dfd6fbe6f87f",
        "colab": {
          "base_uri": "https://localhost:8080/",
          "height": 54
        }
      },
      "source": [
        "print(data([10,20,30], [30,40,50]))\n",
        "print(data([11,22], [33,44]))"
      ],
      "execution_count": 29,
      "outputs": [
        {
          "output_type": "stream",
          "text": [
            "True\n",
            "False\n"
          ],
          "name": "stdout"
        }
      ]
    },
    {
      "cell_type": "code",
      "metadata": {
        "id": "_-seHcO1OO0K"
      },
      "source": [
        "#Write a Python program to append a list to the second list.\n",
        "\n",
        "def append(list1,list2):\n",
        "  final_list = list1 + list2\n",
        "  return final_list"
      ],
      "execution_count": 37,
      "outputs": []
    },
    {
      "cell_type": "code",
      "metadata": {
        "id": "CCKXhuMTkc6z",
        "outputId": "910d2068-7deb-43d9-ba57-e1f40deb9f79",
        "colab": {
          "base_uri": "https://localhost:8080/",
          "height": 35
        }
      },
      "source": [
        "print(append([1,2,3],['a','b']))"
      ],
      "execution_count": 39,
      "outputs": [
        {
          "output_type": "stream",
          "text": [
            "[1, 2, 3, 'a', 'b']\n"
          ],
          "name": "stdout"
        }
      ]
    },
    {
      "cell_type": "code",
      "metadata": {
        "id": "V16zFATcXR8-"
      },
      "source": [
        "#Write a Python program to check if a given number is a composite number or not\n",
        "def composite(n):\n",
        "  if n == 1:\n",
        "    print(\"1 is neither prime nor composite\")\n",
        "  if n > 1:\n",
        "   for i in range(2,n):\n",
        "       if (n % i) == 0:\n",
        "           print(n,\"is a composite number\")\n",
        "           break\n",
        "   else:\n",
        "       print(n,\"is not a composite number\")"
      ],
      "execution_count": 40,
      "outputs": []
    },
    {
      "cell_type": "code",
      "metadata": {
        "id": "d2b84puwk8Nm",
        "outputId": "bf39af2a-90eb-4e8d-ada0-beeea7c91856",
        "colab": {
          "base_uri": "https://localhost:8080/",
          "height": 54
        }
      },
      "source": [
        "print(composite(1))"
      ],
      "execution_count": 41,
      "outputs": [
        {
          "output_type": "stream",
          "text": [
            "1 is neither prime nor composite\n",
            "None\n"
          ],
          "name": "stdout"
        }
      ]
    },
    {
      "cell_type": "code",
      "metadata": {
        "id": "AMZqHbpLlUMo",
        "outputId": "225a29bd-c358-4c7f-9e78-93e44367de7c",
        "colab": {
          "base_uri": "https://localhost:8080/",
          "height": 54
        }
      },
      "source": [
        "print(composite(4))"
      ],
      "execution_count": 42,
      "outputs": [
        {
          "output_type": "stream",
          "text": [
            "4 is a composite number\n",
            "None\n"
          ],
          "name": "stdout"
        }
      ]
    },
    {
      "cell_type": "code",
      "metadata": {
        "id": "X83rJmLYlaw_",
        "outputId": "52153cd6-fe22-4b27-f406-d7c184061a06",
        "colab": {
          "base_uri": "https://localhost:8080/",
          "height": 54
        }
      },
      "source": [
        "print(composite(5))"
      ],
      "execution_count": 43,
      "outputs": [
        {
          "output_type": "stream",
          "text": [
            "5 is not a composite number\n",
            "None\n"
          ],
          "name": "stdout"
        }
      ]
    },
    {
      "cell_type": "code",
      "metadata": {
        "id": "xRW4QXMvY7hJ"
      },
      "source": [
        "#Write a Python code to add two matrices using list(8)\n",
        "M = [[5,10,15],    [1,4,2],    [8,2,10]]\n",
        "N = [[3,11,5],    [9,16,6],    [3,5,4]]\n",
        "\n",
        "R = [[0,0,0],  [0,0,0],  [0,0,0]]\n",
        "\n",
        "for i in range(len(M)):\n",
        "   for j in range(len(M[0])):\n",
        "       R[i][j] = M[i][j] + N[i][j]"
      ],
      "execution_count": 46,
      "outputs": []
    },
    {
      "cell_type": "code",
      "metadata": {
        "id": "czGX4vbOlvaj",
        "outputId": "3c7e65b8-22fe-4987-8877-6ad4ea0219fe",
        "colab": {
          "base_uri": "https://localhost:8080/",
          "height": 35
        }
      },
      "source": [
        "print(R)"
      ],
      "execution_count": 47,
      "outputs": [
        {
          "output_type": "stream",
          "text": [
            "[[8, 21, 20], [10, 20, 8], [11, 7, 14]]\n"
          ],
          "name": "stdout"
        }
      ]
    },
    {
      "cell_type": "code",
      "metadata": {
        "id": "A31zRxlYcyde"
      },
      "source": [
        "#Write a python program to check if a string is palindrome or not\n",
        "def palindrome(str):\n",
        "  str1 = \"\"\n",
        "  for i in str:\n",
        "    str1 = i + str1  \n",
        "  if(str == str1):\n",
        "    return \"This string is Palindrome\"\n",
        "  return \"This string is not Palindrome\""
      ],
      "execution_count": 51,
      "outputs": []
    },
    {
      "cell_type": "code",
      "metadata": {
        "id": "MPFqIKJ-mSxj",
        "outputId": "ea3341ab-62af-453d-f0ae-482af34ee2dd",
        "colab": {
          "base_uri": "https://localhost:8080/",
          "height": 35
        }
      },
      "source": [
        "print(palindrome(\"mom\"))"
      ],
      "execution_count": 52,
      "outputs": [
        {
          "output_type": "stream",
          "text": [
            "This string is Palindrome\n"
          ],
          "name": "stdout"
        }
      ]
    },
    {
      "cell_type": "code",
      "metadata": {
        "id": "U4S8sOM-eFlG"
      },
      "source": [
        "#Write a python program to print multiplication table of a number\n",
        "def table(num,start,end): \n",
        "\tfor i in range (start, end+1): \n",
        "\t\tprint (\"%d * %d = %d\" % (num, i, num * i) )"
      ],
      "execution_count": 53,
      "outputs": []
    },
    {
      "cell_type": "code",
      "metadata": {
        "id": "zxQTqmwUm4i8",
        "outputId": "efa089c4-245d-4831-8ff0-2efba82c7072",
        "colab": {
          "base_uri": "https://localhost:8080/",
          "height": 199
        }
      },
      "source": [
        "table(2,1,10)"
      ],
      "execution_count": 55,
      "outputs": [
        {
          "output_type": "stream",
          "text": [
            "2 * 1 = 2\n",
            "2 * 2 = 4\n",
            "2 * 3 = 6\n",
            "2 * 4 = 8\n",
            "2 * 5 = 10\n",
            "2 * 6 = 12\n",
            "2 * 7 = 14\n",
            "2 * 8 = 16\n",
            "2 * 9 = 18\n",
            "2 * 10 = 20\n"
          ],
          "name": "stdout"
        }
      ]
    }
  ]
}